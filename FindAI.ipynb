{
  "nbformat": 4,
  "nbformat_minor": 0,
  "metadata": {
    "colab": {
      "provenance": [],
      "authorship_tag": "ABX9TyNTSRWYabkQqslzGQcdaLNy"
    },
    "kernelspec": {
      "name": "python3",
      "display_name": "Python 3"
    },
    "language_info": {
      "name": "python"
    }
  },
  "cells": [
    {
      "cell_type": "code",
      "execution_count": 18,
      "metadata": {
        "id": "F6b1Nm3K7GIW"
      },
      "outputs": [],
      "source": [
        "import json\n",
        "#from openai import OpenAI\n",
        "import requests\n",
        "from transformers import pipeline\n",
        "from pprint import pprint"
      ]
    },
    {
      "cell_type": "code",
      "source": [
        "def load_person_data():\n",
        "    # Make API request\n",
        "    person = []\n",
        "\n",
        "    # Add first person data\n",
        "    response = requests.get('https://random-person-generator.com/api')\n",
        "    data = response.json()\n",
        "    person.append({\n",
        "        'name': data['identification']['full_name'],\n",
        "        'dob': data['identification']['date_of_birth'],\n",
        "        'email': data['contact_information']['email_address'],\n",
        "        'service_num': data['financial_information']['cvv2'],\n",
        "        'image': data['profile_photo']['256x256']\n",
        "    })\n",
        "\n",
        "    # Generate more data\n",
        "    for i in range(10):\n",
        "        response = requests.get('https://random-person-generator.com/api')\n",
        "        data = response.json()\n",
        "\n",
        "        person.append({\n",
        "            'name': data['identification']['full_name'],\n",
        "            'dob': data['identification']['date_of_birth'],\n",
        "            'email': data['contact_information']['email_address'],\n",
        "            'service_num': data['financial_information']['cvv2'],\n",
        "            'image': data['profile_photo']['256x256']\n",
        "        })\n",
        "\n",
        "    return person  # Return the list directly"
      ],
      "metadata": {
        "id": "PK_Xf9aWnLVK"
      },
      "execution_count": 14,
      "outputs": []
    },
    {
      "cell_type": "code",
      "source": [
        "data = load_person_data()"
      ],
      "metadata": {
        "id": "Fp04F-VUnbo4"
      },
      "execution_count": 20,
      "outputs": []
    },
    {
      "cell_type": "code",
      "source": [
        "data[1]"
      ],
      "metadata": {
        "colab": {
          "base_uri": "https://localhost:8080/"
        },
        "id": "myZJt_-ztetl",
        "outputId": "aa6d2af2-af85-4599-e8e4-135d194d9088"
      },
      "execution_count": 24,
      "outputs": [
        {
          "output_type": "execute_result",
          "data": {
            "text/plain": [
              "{'name': 'Afnan Miah',\n",
              " 'dob': '01/23/1979',\n",
              " 'email': 'a.miah@legacybeauty.net',\n",
              " 'service_num': '094',\n",
              " 'image': 'https://random-person-generator.com/storage/images/profile_photos/v1/256x256/0e5fa792-8485-4ab9-86d6-172bcd5e8537.jpg'}"
            ]
          },
          "metadata": {},
          "execution_count": 24
        }
      ]
    },
    {
      "cell_type": "code",
      "source": [
        "# Load the text generation model\n",
        "model = pipeline('text-generation', model='EleutherAI/gpt-neo-125M')\n",
        "\n",
        "def find_matching_person(name=None, image_url=None):\n",
        "    person_data = data\n",
        "\n",
        "    if name or image_url:\n",
        "        if name:\n",
        "            # Prepare a query for the model (optional, depending on your needs)\n",
        "            query = f\"Find a person with the name '{name}'.\"\n",
        "            response = model(query, max_length=500, truncation=True)\n",
        "            result = response[0]['generated_text']\n",
        "\n",
        "        # Check for matches in the person data\n",
        "        matches = []\n",
        "        for person in person_data:\n",
        "            if (name and name.lower() in person['name'].lower()) or (image_url and person['image'] == image_url):\n",
        "                matches.append(person)\n",
        "\n",
        "        return matches  # Return all matching profiles\n",
        "\n",
        "    return None"
      ],
      "metadata": {
        "id": "QdeGEjflnhIE"
      },
      "execution_count": 27,
      "outputs": []
    },
    {
      "cell_type": "code",
      "source": [
        "# Main execution\n",
        "if __name__ == \"__main__\":\n",
        "    # Load the text generation model\n",
        "    model = pipeline('text-generation', model='EleutherAI/gpt-neo-125M')\n",
        "\n",
        "    # Input name or image URL from the user\n",
        "    user_input = input(\"Enter the person's name or image URL: \")\n",
        "\n",
        "    # Check if the input is a URL\n",
        "    if user_input.startswith(\"http://\") or user_input.startswith(\"https://\"):\n",
        "        profile = find_matching_person(image_url=user_input)\n",
        "    else:\n",
        "        profile = find_matching_person(name=user_input)\n",
        "\n",
        "    if profile:\n",
        "        print(\"Matching Profile Found:\")\n",
        "        pprint(json.dumps(profile, indent=2))\n",
        "    else:\n",
        "        print(\"No matching profile found.\")"
      ],
      "metadata": {
        "colab": {
          "base_uri": "https://localhost:8080/"
        },
        "id": "B0tPJIY_noew",
        "outputId": "58c70010-dcd2-404c-c0f5-842d19084313"
      },
      "execution_count": 28,
      "outputs": [
        {
          "name": "stdout",
          "output_type": "stream",
          "text": [
            "Enter the person's name or image URL: Af\n"
          ]
        },
        {
          "output_type": "stream",
          "name": "stderr",
          "text": [
            "Setting `pad_token_id` to `eos_token_id`:50256 for open-end generation.\n"
          ]
        },
        {
          "output_type": "stream",
          "name": "stdout",
          "text": [
            "Matching Profile Found:\n",
            "('[\\n'\n",
            " '  {\\n'\n",
            " '    \"name\": \"Afnan Miah\",\\n'\n",
            " '    \"dob\": \"01/23/1979\",\\n'\n",
            " '    \"email\": \"a.miah@legacybeauty.net\",\\n'\n",
            " '    \"service_num\": \"094\",\\n'\n",
            " '    \"image\": '\n",
            " '\"https://random-person-generator.com/storage/images/profile_photos/v1/256x256/0e5fa792-8485-4ab9-86d6-172bcd5e8537.jpg\"\\n'\n",
            " '  }\\n'\n",
            " ']')\n"
          ]
        }
      ]
    },
    {
      "cell_type": "code",
      "source": [],
      "metadata": {
        "id": "cYWgOpgWoFRV"
      },
      "execution_count": null,
      "outputs": []
    }
  ]
}